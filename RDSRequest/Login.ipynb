{
 "cells": [
  {
   "cell_type": "code",
   "execution_count": null,
   "metadata": {},
   "outputs": [],
   "source": [
    "user = \"admin\"\n",
    "pwd = \"dlwndwo2\"\n",
    "host = \"tutorial.crotgxtzxtks.ap-northeast-2.rds.amazonaws.com\"\n",
    "port = 3306\n",
    "db_url = f'mysql+pymysql://{user}:{quote(pwd)}@{host}:{port}/information?charset=utf8mb4'\n",
    "\n",
    "\n",
    "\n",
    "ENGINE = create_engine(db_url, echo=True)\n",
    "\n",
    "session = scoped_session(\n",
    "    sessionmaker(\n",
    "        autocommit=False,\n",
    "        autoflush=False,\n",
    "        bind=ENGINE\n",
    "    )\n",
    ")\n",
    "\n",
    "Base = declarative_base()\n",
    "Base.query = session.query_property()\n",
    "Base.metadata.create_all(bind=ENGINE)"
   ]
  }
 ],
 "metadata": {
  "language_info": {
   "name": "python"
  }
 },
 "nbformat": 4,
 "nbformat_minor": 2
}
